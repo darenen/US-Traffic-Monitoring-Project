{
 "cells": [
  {
   "cell_type": "markdown",
   "metadata": {},
   "source": [
    "# Find the county to each station"
   ]
  },
  {
   "cell_type": "markdown",
   "metadata": {},
   "source": [
    "### Takes the unfiltered CSV and filters it into desired columns\n"
   ]
  },
  {
   "cell_type": "code",
   "execution_count": 1,
   "metadata": {},
   "outputs": [],
   "source": [
    "import pandas as pd\n",
    "import os\n",
    "from geopy.geocoders import Nominatim"
   ]
  },
  {
   "cell_type": "markdown",
   "metadata": {},
   "source": [
    "Reads it and writes a new csv file"
   ]
  },
  {
   "cell_type": "code",
   "execution_count": 3,
   "metadata": {},
   "outputs": [
    {
     "name": "stdout",
     "output_type": "stream",
     "text": [
      "        G        L         M   F\n",
      "0   50223  21.9348 -159.4835  15\n",
      "1   50015  21.9681 -159.3931  15\n",
      "2     300  22.2096 -159.4134  15\n",
      "3     400  20.9130 -156.6892  15\n",
      "4  340005  20.9235 -156.5026  15\n"
     ]
    },
    {
     "data": {
      "text/html": [
       "<div>\n",
       "<style scoped>\n",
       "    .dataframe tbody tr th:only-of-type {\n",
       "        vertical-align: middle;\n",
       "    }\n",
       "\n",
       "    .dataframe tbody tr th {\n",
       "        vertical-align: top;\n",
       "    }\n",
       "\n",
       "    .dataframe thead th {\n",
       "        text-align: right;\n",
       "    }\n",
       "</style>\n",
       "<table border=\"1\" class=\"dataframe\">\n",
       "  <thead>\n",
       "    <tr style=\"text-align: right;\">\n",
       "      <th></th>\n",
       "      <th>G</th>\n",
       "      <th>L</th>\n",
       "      <th>M</th>\n",
       "      <th>F</th>\n",
       "    </tr>\n",
       "  </thead>\n",
       "  <tbody>\n",
       "    <tr>\n",
       "      <th>0</th>\n",
       "      <td>050223</td>\n",
       "      <td>21.9348</td>\n",
       "      <td>-159.4835</td>\n",
       "      <td>15</td>\n",
       "    </tr>\n",
       "    <tr>\n",
       "      <th>1</th>\n",
       "      <td>050015</td>\n",
       "      <td>21.9681</td>\n",
       "      <td>-159.3931</td>\n",
       "      <td>15</td>\n",
       "    </tr>\n",
       "    <tr>\n",
       "      <th>2</th>\n",
       "      <td>000300</td>\n",
       "      <td>22.2096</td>\n",
       "      <td>-159.4134</td>\n",
       "      <td>15</td>\n",
       "    </tr>\n",
       "    <tr>\n",
       "      <th>3</th>\n",
       "      <td>000400</td>\n",
       "      <td>20.9130</td>\n",
       "      <td>-156.6892</td>\n",
       "      <td>15</td>\n",
       "    </tr>\n",
       "    <tr>\n",
       "      <th>4</th>\n",
       "      <td>340005</td>\n",
       "      <td>20.9235</td>\n",
       "      <td>-156.5026</td>\n",
       "      <td>15</td>\n",
       "    </tr>\n",
       "  </tbody>\n",
       "</table>\n",
       "</div>"
      ],
      "text/plain": [
       "        G        L         M   F\n",
       "0  050223  21.9348 -159.4835  15\n",
       "1  050015  21.9681 -159.3931  15\n",
       "2  000300  22.2096 -159.4134  15\n",
       "3  000400  20.9130 -156.6892  15\n",
       "4  340005  20.9235 -156.5026  15"
      ]
     },
     "execution_count": 3,
     "metadata": {},
     "output_type": "execute_result"
    }
   ],
   "source": [
    "# column 'G' is stationid, 'L' is lat, 'M' is long \n",
    "unprocessed = pd.read_csv('TMAS2015_august_laye.csv')\n",
    "unprocessed.head()\n",
    "new = unprocessed.filter(items = ['G','L','M','F'])\n",
    "\n",
    "for index,row in new.iterrows():\n",
    "    new.at[index,'G'] = '0'*(6-len(row['G'])) + row['G']\n",
    "\n",
    "#changes the names of the columns \n",
    "new = new.rename(columns={ 'G': 'Station_Id', 'L': 'Latitude', 'M': 'Longitude', 'F': 'State_Code' })\n",
    "new['County'] = ''\n",
    "new.to_csv(path_or_buf='station_location.csv',index = False)\n"
   ]
  },
  {
   "cell_type": "markdown",
   "metadata": {},
   "source": [
    "## Reverse address to find county using GeoPy\n"
   ]
  },
  {
   "cell_type": "markdown",
   "metadata": {},
   "source": [
    "Creates the instance of the Address finder\n",
    "\n"
   ]
  },
  {
   "cell_type": "code",
   "execution_count": 4,
   "metadata": {},
   "outputs": [],
   "source": [
    "increment = 1000\n",
    "rows = 0\n",
    "\n",
    "adress_reverser = Nominatim(user_agent=\"adress_reverser\")\n",
    "\n",
    "#gets rid of the county and ' in the county string\n",
    "def county_formatter(county_str):\n",
    "    if county_str != None:\n",
    "        return county_str.replace(' County','').replace('ʻ','')\n",
    "    return ''\n",
    "\n",
    "#gets the county using the latitude and longitude of each row\n",
    "def change_row(row):\n",
    "    coord = (row['Latitude'], row['Longitude'])\n",
    "    location = adress_reverser.reverse(coord, exactly_one = True)\n",
    "    address = location.raw['address']\n",
    "    county = address.get('county')\n",
    "    return county_formatter(county)"
   ]
  },
  {
   "cell_type": "markdown",
   "metadata": {},
   "source": [
    "Takes only a thousand rows of the station locations at a time"
   ]
  },
  {
   "cell_type": "code",
   "execution_count": null,
   "metadata": {},
   "outputs": [],
   "source": [
    "stations = pd.read_csv('station_location.csv', nrows = increment, skiprows=rows+1, names = ['Station_Id','Latitude','Longitude', 'State_Code','County'], dtype = {'Latitude' : str, 'Longitude' : str, 'Station_Id' : str, 'State_Code' : int, 'County' : str})\n",
    "rows += increment\n",
    "\n",
    "stations['County'] = stations.apply(change_row,axis = 1)\n",
    "stations.to_csv('county_added.csv',index = False,mode = 'a')"
   ]
  },
  {
   "cell_type": "markdown",
   "metadata": {},
   "source": [
    "### Fix up the code, fill in the missing gaps by manually inputing the latitude and longitude in a map to find the county\n",
    "- final csv should look like *station_county_key.csv*\n"
   ]
  }
 ],
 "metadata": {
  "kernelspec": {
   "display_name": "streetdata",
   "language": "python",
   "name": "python3"
  },
  "language_info": {
   "codemirror_mode": {
    "name": "ipython",
    "version": 3
   },
   "file_extension": ".py",
   "mimetype": "text/x-python",
   "name": "python",
   "nbconvert_exporter": "python",
   "pygments_lexer": "ipython3",
   "version": "3.12.3"
  }
 },
 "nbformat": 4,
 "nbformat_minor": 2
}
