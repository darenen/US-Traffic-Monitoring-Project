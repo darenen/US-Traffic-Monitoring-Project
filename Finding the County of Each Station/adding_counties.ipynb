{
 "cells": [
  {
   "cell_type": "markdown",
   "metadata": {},
   "source": [
    "## Reverse address to find county using GeoPy\n"
   ]
  },
  {
   "cell_type": "code",
   "execution_count": 62,
   "metadata": {},
   "outputs": [],
   "source": [
    "import pandas as pd\n",
    "from geopy.geocoders import Nominatim"
   ]
  },
  {
   "cell_type": "markdown",
   "metadata": {},
   "source": [
    "reverse address using geocoding"
   ]
  },
  {
   "cell_type": "code",
   "execution_count": 63,
   "metadata": {},
   "outputs": [],
   "source": [
    "stations = pd.read_csv('station_location.csv', nrows=100, dtype = {'Latitude' : str, 'Longitude' : str, 'Station_Id' : str, 'State_Code' : int, 'County' : str})\n",
    "\n",
    "adress_reverser = Nominatim(user_agent=\"adress_reverser\")\n",
    "\n",
    "stations.insert(4,'County',['' for i in range(len(stations.index))],True)\n",
    "\n"
   ]
  },
  {
   "cell_type": "markdown",
   "metadata": {},
   "source": [
    "gets rid of the county and ' in the county string"
   ]
  },
  {
   "cell_type": "code",
   "execution_count": 64,
   "metadata": {},
   "outputs": [],
   "source": [
    "def county_formatter(county_str):\n",
    "    if county_str != None:\n",
    "        return county_str.replace(' County','').replace('ʻ','')\n",
    "    return ''"
   ]
  },
  {
   "cell_type": "markdown",
   "metadata": {},
   "source": [
    "gets the county using the latitude and longitude of each row"
   ]
  },
  {
   "cell_type": "code",
   "execution_count": 65,
   "metadata": {},
   "outputs": [],
   "source": [
    "def change_row(row):\n",
    "    coord = (row['Latitude'], row['Longitude'])\n",
    "    location = adress_reverser.reverse(coord, exactly_one = True)\n",
    "    \n",
    "    #checks to see if there is a location.raw[adress] or county\n",
    "    #location.raw['address']['county']\n",
    "    \n",
    "    address = location.raw['address']\n",
    "    county = address.get('county')\n",
    "    return county_formatter(county)\n"
   ]
  },
  {
   "cell_type": "markdown",
   "metadata": {},
   "source": [
    "#TODO: add county to csv\n",
    "make sure that the county name is consistent with geoJson data\n",
    "turn station with \n",
    "add a reference station_ID to county, new csv with stationid, state, and county\n",
    "then apply it to other one"
   ]
  },
  {
   "cell_type": "code",
   "execution_count": 80,
   "metadata": {},
   "outputs": [],
   "source": [
    "stations = pd.read_csv('station_location.csv', names = ['Station_Id','Latitude','Longitude', 'State_Code','County'], skiprows=7001, dtype = {'Latitude' : str, 'Longitude' : str, 'Station_Id' : str, 'State_Code' : int, 'County' : str})\n",
    "\n",
    "stations['County'] = stations.apply(change_row,axis = 1)\n",
    "\n",
    "\n"
   ]
  },
  {
   "cell_type": "code",
   "execution_count": 81,
   "metadata": {},
   "outputs": [],
   "source": []
  }
 ],
 "metadata": {
  "kernelspec": {
   "display_name": "streetdata",
   "language": "python",
   "name": "python3"
  },
  "language_info": {
   "codemirror_mode": {
    "name": "ipython",
    "version": 3
   },
   "file_extension": ".py",
   "mimetype": "text/x-python",
   "name": "python",
   "nbconvert_exporter": "python",
   "pygments_lexer": "ipython3",
   "version": "3.12.3"
  }
 },
 "nbformat": 4,
 "nbformat_minor": 2
}
