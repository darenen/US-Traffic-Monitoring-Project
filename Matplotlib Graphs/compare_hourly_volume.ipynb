{
 "cells": [
  {
   "cell_type": "markdown",
   "metadata": {},
   "source": [
    "## Comparing Two Stations' Hourly Average\n",
    "For December"
   ]
  },
  {
   "cell_type": "code",
   "execution_count": 1,
   "metadata": {},
   "outputs": [],
   "source": [
    "import pandas as pd\n",
    "import matplotlib.pyplot as plt\n",
    "import random"
   ]
  },
  {
   "cell_type": "markdown",
   "metadata": {},
   "source": [
    "Get user input for the stations"
   ]
  },
  {
   "cell_type": "code",
   "execution_count": 2,
   "metadata": {},
   "outputs": [
    {
     "name": "stdout",
     "output_type": "stream",
     "text": [
      "state1 california\n",
      "state2 california\n"
     ]
    }
   ],
   "source": [
    "state_abbreviations = {\n",
    "    'alabama': 'AL',\n",
    "    'alaska': 'AK',\n",
    "    'arizona': 'AZ',\n",
    "    'arkansas': 'AR',\n",
    "    'california': 'CA',\n",
    "    'colorado': 'CO',\n",
    "    'connecticut': 'CT',\n",
    "    'delaware': 'DE',\n",
    "    'florida': 'FL',\n",
    "    'georgia': 'GA',\n",
    "    'hawaii': 'HI',\n",
    "    'idaho': 'ID',\n",
    "    'illinois': 'IL',\n",
    "    'indiana': 'IN',\n",
    "    'iowa': 'IA',\n",
    "    'kansas': 'KS',\n",
    "    'kentucky': 'KY',\n",
    "    'louisiana': 'LA',\n",
    "    'maine': 'ME',\n",
    "    'maryland': 'MD',\n",
    "    'massachusetts': 'MA',\n",
    "    'michigan': 'MI',\n",
    "    'minnesota': 'MN',\n",
    "    'mississippi': 'MS',\n",
    "    'missouri': 'MO',\n",
    "    'montana': 'MT',\n",
    "    'nebraska': 'NE',\n",
    "    'nevada': 'NV',\n",
    "    'new hampshire': 'NH',\n",
    "    'new jersey': 'NJ',\n",
    "    'new mexico': 'NM',\n",
    "    'new york': 'NY',\n",
    "    'north carolina': 'NC',\n",
    "    'north dakota': 'ND',\n",
    "    'ohio': 'OH',\n",
    "    'oklahoma': 'OK',\n",
    "    'oregon': 'OR',\n",
    "    'pennsylvania': 'PA',\n",
    "    'rhode island': 'RI',\n",
    "    'south carolina': 'SC',\n",
    "    'south dakota': 'SD',\n",
    "    'tennessee': 'TN',\n",
    "    'texas': 'TX',\n",
    "    'utah': 'UT',\n",
    "    'vermont': 'VT',\n",
    "    'virginia': 'VA',\n",
    "    'washington': 'WA',\n",
    "    'west virginia': 'WV',\n",
    "    'wisconsin': 'WI',\n",
    "    'wyoming': 'WY'\n",
    "}\n",
    "\n",
    "# Getting the first state and ID\n",
    "state1 = input(\"Enter the name of the first state: \")\n",
    "while(not(state1.lower() in state_abbreviations.keys())):\n",
    "    state1 = input(\"Enter a valid state: \")\n",
    "\n",
    "abbreviation1 = state_abbreviations[state1.lower()]\n",
    "\n",
    "state2 = input(\"Enter the name of the second state: \")\n",
    "while(not(state2.lower() in state_abbreviations.keys())):\n",
    "    state2 = input(\"Enter a valid state: \")\n",
    "\n",
    "abbreviation2 = state_abbreviations[state2.lower()]\n",
    "\n",
    "print('state1 ' + state1)\n",
    "print('state2 ' + state2)"
   ]
  },
  {
   "cell_type": "markdown",
   "metadata": {},
   "source": [
    "Loads the data from two files\n"
   ]
  },
  {
   "cell_type": "code",
   "execution_count": 3,
   "metadata": {},
   "outputs": [],
   "source": [
    "state1_data = pd.read_csv(f\"dec_2015_ccs_data_converted/{abbreviation1}_DEC_2022 (TMAS).csv\", dtype = { 'Record_Type': int, 'State_Code' : int, 'F_System' : str, 'Station_Id' : str, 'Travel_Dir' : int, 'Year_Record' : int,\n",
    "                                                                                                       'Month_Record': int,'Day_Record' : int,'Day_of_Week' : int,'Hour_Record' : int ,'Hour_Volume' : int ,'Restrictions' : int})\n",
    "state2_data = pd.read_csv(f\"dec_2015_ccs_data_converted/{abbreviation2}_DEC_2022 (TMAS).csv\", dtype = { 'Record_Type': int, 'State_Code' : int, 'F_System' : str, 'Station_Id' : str, 'Travel_Dir' : int, 'Year_Record' : int,\n",
    "                                                                                                       'Month_Record': int,'Day_Record' : int,'Day_of_Week' : int,'Hour_Record' : int ,'Hour_Volume' : int ,'Restrictions' : int})"
   ]
  },
  {
   "cell_type": "markdown",
   "metadata": {},
   "source": [
    "Gets user input for stations"
   ]
  },
  {
   "cell_type": "code",
   "execution_count": 4,
   "metadata": {},
   "outputs": [
    {
     "name": "stdout",
     "output_type": "stream",
     "text": [
      "id1 : 129130\n",
      "id2 : 096540\n"
     ]
    }
   ],
   "source": [
    "#Gets station ID input\n",
    "station_id_input = input('Next, enter the station id from ' + abbreviation1)\n",
    "if(station_id_input.lower() == 'r'): \n",
    "    # sample() gets a random row\n",
    "    station_id1 = state1_data.sample()['Station_Id'].values[0]\n",
    "else:\n",
    "    station_id1 = station_id_input\n",
    "\n",
    "station_id_input = input('Next, enter the station id from ' + abbreviation2)\n",
    "if(station_id_input.lower() == 'r'): \n",
    "    # sample() gets a random row\n",
    "    station_id2 = state2_data.sample()['Station_Id'].values[0]\n",
    "else:\n",
    "    station_id2 = station_id_input\n",
    "\n",
    "print('id1 : ' + station_id1)\n",
    "print('id2 : ' + station_id2)"
   ]
  },
  {
   "cell_type": "markdown",
   "metadata": {},
   "source": [
    "Finds the average for the two stations"
   ]
  },
  {
   "cell_type": "code",
   "execution_count": 5,
   "metadata": {},
   "outputs": [],
   "source": [
    "#smaller data frames \n",
    "station1 = state1_data[state1_data['Station_Id'] == station_id1]\n",
    "\n",
    "hour_average_station1 = dict.fromkeys(range(0,24),0)\n",
    "days = 31\n",
    "\n",
    "for index, row, in station1.iterrows():\n",
    "    hour_average_station1[row['Hour_Record']] += row['Hour_Volume']\n",
    "\n",
    "for key in hour_average_station1:\n",
    "    hour_average_station1[key] = round(hour_average_station1[key] / days)\n",
    "\n",
    "\n",
    "station2 = state2_data[state2_data['Station_Id'] == station_id2]\n",
    "\n",
    "hour_average_station2 = dict.fromkeys(range(0,24),0)\n",
    "\n",
    "for index, row, in station2.iterrows():\n",
    "    hour_average_station2[row['Hour_Record']] += row['Hour_Volume']\n",
    "\n",
    "for key in hour_average_station2:\n",
    "    hour_average_station2[key] = round(hour_average_station2[key] / days)"
   ]
  },
  {
   "cell_type": "markdown",
   "metadata": {},
   "source": [
    "Plots a side by side bar graph\n"
   ]
  },
  {
   "cell_type": "code",
   "execution_count": 6,
   "metadata": {},
   "outputs": [
    {
     "data": {
      "image/png": "[encoded data removed]",
      "text/plain": [
       "<Figure size 640x480 with 3 Axes>"
      ]
     },
     "metadata": {},
     "output_type": "display_data"
    }
   ],
   "source": [
    "#creates a plot with three colums of side plot\n",
    "#fig, axs = plt.subplot(nrows = 2,ncols = 2, squeeze=True)\n",
    "\n",
    "\n",
    "ax1 = plt.subplot(2,2,1)\n",
    "ax1.bar(hour_average_station1.keys(), hour_average_station1.values())\n",
    "ax1.set_title(f'Station {station_id1}')\n",
    "ax1.set_ylabel('Count')\n",
    "ax1.set_xlabel('Hour')\n",
    "ax1.set_xticks([i for i in range(0,24,6)])\n",
    "\n",
    "ax2 = plt.subplot(2,2,2)\n",
    "ax2.bar(hour_average_station2.keys(), hour_average_station2.values(), color = 'orange')\n",
    "ax2.set_title(f'Station {station_id2}')\n",
    "ax2.set_ylabel('Count')\n",
    "ax2.set_xlabel('Hour')\n",
    "ax2.set_xticks([i for i in range(0,24,6)])\n",
    "\n",
    "side_by_side = pd.DataFrame({\n",
    "    f'Station {station_id1}': hour_average_station1,\n",
    "    f'Station {station_id2}': hour_average_station2\n",
    "})\n",
    "\n",
    "ax3 = plt.subplot(2,1,2)\n",
    "\n",
    "side_by_side.plot.bar(ax = ax3,width=0.9)\n",
    "ax3.set_xticks([i for i in range(0,24,6)])\n",
    "ax3.set_xlabel('Hour')\n",
    "ax3.set_ylabel('Count')\n",
    "ax3.set_title('Compared Counts')\n",
    "\n",
    "\n",
    "plt.suptitle('Station Average Hourly Traffic Count')\n",
    "# Makes sure theres no overlap\n",
    "plt.tight_layout()\n",
    "plt.show()\n"
   ]
  }
 ],
 "metadata": {
  "kernelspec": {
   "display_name": "streetdata",
   "language": "python",
   "name": "python3"
  },
  "language_info": {
   "codemirror_mode": {
    "name": "ipython",
    "version": 3
   },
   "file_extension": ".py",
   "mimetype": "text/x-python",
   "name": "python",
   "nbconvert_exporter": "python",
   "pygments_lexer": "ipython3",
   "version": "3.12.3"
  }
 },
 "nbformat": 4,
 "nbformat_minor": 2
}
